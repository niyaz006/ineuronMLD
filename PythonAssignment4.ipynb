{
 "cells": [
  {
   "cell_type": "markdown",
   "metadata": {},
   "source": [
    "1.1 Write a Python Program(with class concepts) to find the area of the triangle using the below\n",
    "formula.\n",
    "\n",
    "area = (s*(s-a)*(s-b)*(s-c)) ** 0.5\n",
    "\n",
    "Function to take the length of the sides of triangle from user should be defined in the parent\n",
    "class and function to calculate the area should be defined in subclass."
   ]
  },
  {
   "cell_type": "code",
   "execution_count": 25,
   "metadata": {},
   "outputs": [
    {
     "name": "stdout",
     "output_type": "stream",
     "text": [
      "a=3\n",
      "b=3\n",
      "c=3\n",
      "Area : 3.897114317029974\n"
     ]
    }
   ],
   "source": [
    "class triangle:\n",
    "    def __init__(self, a, b, c):\n",
    "        self.a = float(a)\n",
    "        self.b = float(b)\n",
    "        self.c = float(c)\n",
    "    a= input(\"a=\")\n",
    "    b= input(\"b=\")\n",
    "    c= input(\"c=\")\n",
    "\n",
    "    def area(self):\n",
    "        a=self.a\n",
    "        b=self.b\n",
    "        c=self.c\n",
    "        s = (a + b + c) / 2\n",
    "        return (s*(s-a)*(s-b)*(s-c)) ** 0.5\n",
    "\n",
    "t1 = triangle(a,b,c)\n",
    "print(\"Area : {}\".format(t1.area()))"
   ]
  },
  {
   "cell_type": "markdown",
   "metadata": {},
   "source": [
    "1.2 Write a function filter_long_words() that takes a list of words and an integer n and returns\n",
    "the list of words that are longer than n."
   ]
  },
  {
   "cell_type": "code",
   "execution_count": 24,
   "metadata": {},
   "outputs": [
    {
     "data": {
      "text/plain": [
       "['India', 'Australia']"
      ]
     },
     "execution_count": 24,
     "metadata": {},
     "output_type": "execute_result"
    }
   ],
   "source": [
    "def filter_long_words(list_of_words, length_limit):\n",
    "    filteredlist=[]\n",
    "    for i in list_of_words:\n",
    "        if len(i)<=length_limit: \n",
    "            filteredlist.append(i)\n",
    "    return filteredlist\n",
    "\n",
    "list1 = ['India', 'Australia', 'New Zealand', 'West Indies', 'United Arab Emirates']\n",
    "n = 10\n",
    "filtered = filter_long_words(list1,n)\n",
    "filtered\n",
    "        "
   ]
  },
  {
   "cell_type": "markdown",
   "metadata": {},
   "source": [
    "2.1 Write a Python program using function concept that maps list of words into a list of integers\n",
    "representing the lengths of the corresponding words.\n",
    "Hint: If a list [ ab,cde,erty] is passed on to the python function output should come as [2,3,4]\n",
    "Here 2,3 and 4 are the lengths of the words in the list."
   ]
  },
  {
   "cell_type": "code",
   "execution_count": 27,
   "metadata": {},
   "outputs": [
    {
     "data": {
      "text/plain": [
       "[5, 9, 11, 11, 20]"
      ]
     },
     "execution_count": 27,
     "metadata": {},
     "output_type": "execute_result"
    }
   ],
   "source": [
    "def length_of_words(list_of_words):\n",
    "    wordlength=[]\n",
    "    for i in list_of_words:\n",
    "        wordlength.append(len(i))\n",
    "    return wordlength\n",
    "\n",
    "list1 = ['India', 'Australia', 'New Zealand', 'West Indies', 'United Arab Emirates']\n",
    "length1 = length_of_words(list1)\n",
    "length1"
   ]
  },
  {
   "cell_type": "markdown",
   "metadata": {},
   "source": [
    "2.2 Write a Python function which takes a character (i.e. a string of length 1) and returns True if\n",
    "it is a vowel, False otherwise."
   ]
  },
  {
   "cell_type": "code",
   "execution_count": 51,
   "metadata": {},
   "outputs": [
    {
     "name": "stdout",
     "output_type": "stream",
     "text": [
      "Is I a Vowel? Yes\n"
     ]
    }
   ],
   "source": [
    "def vowelcheck(word):\n",
    "    if len(word)==1:\n",
    "        word = word.lower()\n",
    "        if word=='a' or word=='e' or word=='i' or word=='o' or word=='u':\n",
    "            return \"Yes\"\n",
    "        else:\n",
    "            return \"No\"\n",
    "    else:\n",
    "        return \"Please provide single character\"\n",
    "\n",
    "word=\"I\"\n",
    "print(\"Is {} a Vowel? {}\".format(word, vowelcheck(word)))"
   ]
  },
  {
   "cell_type": "code",
   "execution_count": null,
   "metadata": {},
   "outputs": [],
   "source": []
  }
 ],
 "metadata": {
  "kernelspec": {
   "display_name": "Python 3",
   "language": "python",
   "name": "python3"
  },
  "language_info": {
   "codemirror_mode": {
    "name": "ipython",
    "version": 3
   },
   "file_extension": ".py",
   "mimetype": "text/x-python",
   "name": "python",
   "nbconvert_exporter": "python",
   "pygments_lexer": "ipython3",
   "version": "3.7.6"
  }
 },
 "nbformat": 4,
 "nbformat_minor": 4
}
