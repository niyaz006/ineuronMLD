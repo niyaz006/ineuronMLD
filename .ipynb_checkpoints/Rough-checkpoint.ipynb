{
 "cells": [
  {
   "cell_type": "code",
   "execution_count": 1,
   "metadata": {},
   "outputs": [],
   "source": [
    "l1=[1,2,3,4]\n",
    "l2=[5,6,7,8]\n",
    "l3=[6,5,7,8]"
   ]
  },
  {
   "cell_type": "code",
   "execution_count": 2,
   "metadata": {},
   "outputs": [],
   "source": [
    "l=[l1,l2,l3]"
   ]
  },
  {
   "cell_type": "code",
   "execution_count": 6,
   "metadata": {},
   "outputs": [
    {
     "data": {
      "text/plain": [
       "[10, 13, 16, 19, 22, 25, 28, 31, 34, 37]"
      ]
     },
     "execution_count": 6,
     "metadata": {},
     "output_type": "execute_result"
    }
   ],
   "source": [
    "list(range(10,40,3))"
   ]
  },
  {
   "cell_type": "code",
   "execution_count": 32,
   "metadata": {},
   "outputs": [
    {
     "name": "stdout",
     "output_type": "stream",
     "text": [
      "[1, 2, 2, 2, 2, 3, 4, 5, 6, 7, 8, 9, 10]\n",
      "[1, 2, 2, 2, 3, 4, 5, 6, 7, 8, 9, 10]\n",
      "[1, 2, 2, 3, 4, 5, 6, 7, 8, 9, 10]\n",
      "[1, 2, 2, 3, 4, 5, 6, 7, 8, 9, 10]\n"
     ]
    }
   ],
   "source": [
    "l = [1,2,2,2,2,3,4,5,6,7,8,9,10]\n",
    "print(l)\n",
    "for o in l:\n",
    "    if o==2:\n",
    "        l.remove(o)\n",
    "        print(l)\n",
    "print(l)"
   ]
  },
  {
   "cell_type": "code",
   "execution_count": 40,
   "metadata": {},
   "outputs": [
    {
     "data": {
      "text/plain": [
       "[2]"
      ]
     },
     "execution_count": 40,
     "metadata": {},
     "output_type": "execute_result"
    }
   ],
   "source": [
    "lst = [1, 2, 3, 4, 5, 6, 7, 8]\n",
    "[x for x in lst if x == 2]"
   ]
  },
  {
   "cell_type": "code",
   "execution_count": 48,
   "metadata": {},
   "outputs": [
    {
     "name": "stdout",
     "output_type": "stream",
     "text": [
      "[1, 3, 4, 5, 6, 7, 8, 9, 10]\n"
     ]
    }
   ],
   "source": [
    "l = [1,2,2,2,2,3,4,5,6,7,8,9,10]\n",
    "l = [x for x in l if x != 2]\n",
    "print(l)"
   ]
  },
  {
   "cell_type": "code",
   "execution_count": 4,
   "metadata": {},
   "outputs": [
    {
     "data": {
      "text/plain": [
       "['India', 'Australia', 'Italy', 'France']"
      ]
     },
     "execution_count": 4,
     "metadata": {},
     "output_type": "execute_result"
    }
   ],
   "source": [
    "l = ['India','Australia','Italy','France']\n",
    "l"
   ]
  },
  {
   "cell_type": "code",
   "execution_count": 5,
   "metadata": {},
   "outputs": [
    {
     "data": {
      "text/plain": [
       "{'I': 'Italy', 'A': 'Australia', 'F': 'France'}"
      ]
     },
     "execution_count": 5,
     "metadata": {},
     "output_type": "execute_result"
    }
   ],
   "source": [
    "{i[0]:i for i in l}"
   ]
  },
  {
   "cell_type": "code",
   "execution_count": 6,
   "metadata": {},
   "outputs": [
    {
     "data": {
      "text/plain": [
       "{0: 0, 1: 1, 2: 4, 3: 9, 4: 16, 5: 25, 6: 36, 7: 49, 8: 64, 9: 81}"
      ]
     },
     "execution_count": 6,
     "metadata": {},
     "output_type": "execute_result"
    }
   ],
   "source": [
    "{x:x**2 for x in range(10)}"
   ]
  },
  {
   "cell_type": "code",
   "execution_count": 9,
   "metadata": {},
   "outputs": [
    {
     "data": {
      "text/plain": [
       "{0: 0, 2: 4, 4: 16, 6: 36, 8: 64}"
      ]
     },
     "execution_count": 9,
     "metadata": {},
     "output_type": "execute_result"
    }
   ],
   "source": [
    "{x:x**2 for x in range(10) if  x%2 ==0}"
   ]
  },
  {
   "cell_type": "code",
   "execution_count": 8,
   "metadata": {},
   "outputs": [],
   "source": [
    "def sqr(num):\n",
    "    for n in range(1,num+1):\n",
    "        yield  n**2"
   ]
  },
  {
   "cell_type": "code",
   "execution_count": 9,
   "metadata": {},
   "outputs": [
    {
     "name": "stdout",
     "output_type": "stream",
     "text": [
      "1\n",
      "4\n",
      "9\n",
      "16\n",
      "25\n"
     ]
    }
   ],
   "source": [
    "sqr_num=sqr(5)\n",
    "for i in sqr_num:\n",
    "    print(i)"
   ]
  },
  {
   "cell_type": "code",
   "execution_count": 1,
   "metadata": {},
   "outputs": [],
   "source": [
    "def SpicyChicken(low, high):\n",
    "    for i in range(low,high+1):\n",
    "        print(i, end=\"\")\n",
    "        if i%3==0:\n",
    "            print(\" Spicy\", end=\"\")\n",
    "            if i%5==0:\n",
    "                print(\"Chicken!\", end=\"\")\n",
    "        elif i%5==0:\n",
    "            print(\" Chicken\", end=\"\")\n",
    "        print()\n",
    "\n",
    "def getMinNumber():\n",
    "    flag=1\n",
    "    while flag==1:\n",
    "        min = int(input(\"Enter min value:\"))\n",
    "        if min<=0 or min>100:\n",
    "            print(\"Enter a number between 1 and 100\")\n",
    "        else:\n",
    "            flag=0\n",
    "    return min\n",
    "\n",
    "def getMaxNumber(min):\n",
    "    flag=1\n",
    "    while flag==1:\n",
    "        max = int(input(\"Enter max value:\"))\n",
    "        if max>100 or max<min:\n",
    "            print(\"Enter a number between\", min, \" and 100\")\n",
    "        else:\n",
    "            flag=0\n",
    "    return max"
   ]
  },
  {
   "cell_type": "code",
   "execution_count": 4,
   "metadata": {},
   "outputs": [
    {
     "name": "stdout",
     "output_type": "stream",
     "text": [
      "Enter min value:50\n",
      "Enter max value:45\n",
      "Enter a number between 50  and 100\n",
      "Enter max value:50\n",
      "50 Chicken\n"
     ]
    }
   ],
   "source": [
    "min = getMinNumber()\n",
    "max = getMaxNumber(min)\n",
    "SpicyChicken(min,max)"
   ]
  },
  {
   "cell_type": "code",
   "execution_count": 61,
   "metadata": {},
   "outputs": [
    {
     "name": "stdout",
     "output_type": "stream",
     "text": [
      "d\n",
      ", dlrow olleh\n"
     ]
    },
    {
     "data": {
      "text/plain": [
       "'Halb Halb, Dlrow Olleh'"
      ]
     },
     "execution_count": 61,
     "metadata": {},
     "output_type": "execute_result"
    }
   ],
   "source": [
    "            \n",
    "def reverse(s): \n",
    "    revstr = \"\" \n",
    "    for i in s:\n",
    "        if i=='!' or i==',' or i=='.' or i=='?':\n",
    "            print(revstr[0:1])\n",
    "            revstr = \" \" + revstr\n",
    "            revstr = i + revstr\n",
    "            print(revstr)\n",
    "        elif revstr[0:1]=='!' or revstr[0:1]==',' or revstr[0:1]=='.' or revstr[0:1]=='?':\n",
    "            if i != ' ':\n",
    "                revstr = i + revstr\n",
    "        else:\n",
    "            revstr = i + revstr\n",
    "    \n",
    "    return(revstr.title())\n",
    "\n",
    "\n",
    "\n",
    "str = \"hello world, blah blah\"\n",
    "revstr=reverse(str)\n",
    "revstr"
   ]
  },
  {
   "cell_type": "code",
   "execution_count": 64,
   "metadata": {},
   "outputs": [],
   "source": [
    "def calculateTax(income):\n",
    "# Write your code here\n",
    "    if income<=18200:\n",
    "        tax=0\n",
    "    elif income<=37000:\n",
    "        tax=(income-18200)*0.19\n",
    "    elif income<=87000:\n",
    "        tax=(37000-18200)*0.19\n",
    "        tax= tax + ((income - 37000) * 0.325)\n",
    "    elif income <= 180000:\n",
    "        tax=(37000-18200)*0.19\n",
    "        tax=tax+(87000-37000)*0.325\n",
    "        tax = tax + ((income - 87000)*0.37)\n",
    "    else:\n",
    "        tax=(37000-18200)*0.19\n",
    "        tax=tax+(87000-37000)*0.325\n",
    "        tax=tax+(180000-87000)*0.37\n",
    "        tax = tax + ((income - 180000)*0.45)\n",
    "    return round(tax,2)"
   ]
  },
  {
   "cell_type": "code",
   "execution_count": 66,
   "metadata": {},
   "outputs": [
    {
     "name": "stdout",
     "output_type": "stream",
     "text": [
      "54232.45\n"
     ]
    }
   ],
   "source": [
    "print(calculateTax(180001))"
   ]
  },
  {
   "cell_type": "code",
   "execution_count": 7,
   "metadata": {},
   "outputs": [
    {
     "name": "stdout",
     "output_type": "stream",
     "text": [
      "B\n"
     ]
    }
   ],
   "source": [
    "class A():\n",
    "    def test(self):\n",
    "        print('A')\n",
    "\n",
    "class B(A):\n",
    "    def test(self):\n",
    "        print('B')\n",
    "\n",
    "testobj = B()\n",
    "testobj.test()"
   ]
  },
  {
   "cell_type": "code",
   "execution_count": 4,
   "metadata": {},
   "outputs": [
    {
     "name": "stdout",
     "output_type": "stream",
     "text": [
      "A\n"
     ]
    }
   ],
   "source": []
  },
  {
   "cell_type": "code",
   "execution_count": null,
   "metadata": {},
   "outputs": [],
   "source": []
  }
 ],
 "metadata": {
  "celltoolbar": "Raw Cell Format",
  "kernelspec": {
   "display_name": "Python 3",
   "language": "python",
   "name": "python3"
  },
  "language_info": {
   "codemirror_mode": {
    "name": "ipython",
    "version": 3
   },
   "file_extension": ".py",
   "mimetype": "text/x-python",
   "name": "python",
   "nbconvert_exporter": "python",
   "pygments_lexer": "ipython3",
   "version": "3.7.6"
  }
 },
 "nbformat": 4,
 "nbformat_minor": 4
}
